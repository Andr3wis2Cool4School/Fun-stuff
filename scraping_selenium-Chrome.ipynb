{
 "cells": [
  {
   "cell_type": "markdown",
   "metadata": {},
   "source": [
    "## Selenium for scraping and navigating content rich websites\n",
    "\n",
    "Selenium is a comprehensive library that helps to automate scraping of content-rich web pages. It uses the actual web browser installed on your machine to open web pages. This opens a whole set of capabilities that are precluded to other libraries (and brings some problems too). When to use Selenium? When the web site you want to scrape is dynamic and includes Javascripts to generate (and hide) content.\n",
    "\n",
    "In the first part f this lecture we will understand how to basically instantiate the objects in the library. Next we will show some basic examples on how to interact with dynamic web pages. \n",
    "\n",
    "The full Selenium documentation can be found at https://selenium-python.readthedocs.io/index.html  "
   ]
  },
  {
   "cell_type": "markdown",
   "metadata": {},
   "source": [
    "### Google Chrome and packages installation\n",
    "In this tutorial we will rely on Google Chrome web browser. Please install it beforehand."
   ]
  },
  {
   "cell_type": "code",
   "execution_count": 1,
   "metadata": {},
   "outputs": [
    {
     "name": "stdout",
     "output_type": "stream",
     "text": [
      "Requirement already satisfied: selenium in /Users/luoyifeng/opt/anaconda3/lib/python3.8/site-packages (3.141.0)\n",
      "Requirement already satisfied: urllib3 in /Users/luoyifeng/opt/anaconda3/lib/python3.8/site-packages (from selenium) (1.25.11)\n",
      "Requirement already satisfied: chromedriver-autoinstaller in /Users/luoyifeng/opt/anaconda3/lib/python3.8/site-packages (0.2.2)\n"
     ]
    }
   ],
   "source": [
    "# Install required packages using pip package manager in the current Jupyter kernel\n",
    "import sys\n",
    "!{sys.executable} -m pip install selenium\n",
    "!{sys.executable} -m pip install chromedriver-autoinstaller"
   ]
  },
  {
   "cell_type": "markdown",
   "metadata": {},
   "source": [
    "If you wish to use Mozilla Firefox, please use the following code (and remind to use the appropriate code in the following snippets):"
   ]
  },
  {
   "cell_type": "code",
   "execution_count": 2,
   "metadata": {},
   "outputs": [],
   "source": [
    "# Install required packages using pip package manager in the current Jupyter kernel\n",
    "#import sys\n",
    "#!{sys.executable} -m pip install selenium\n",
    "#!{sys.executable} -m pip install geckodriver-autoinstaller #For Firefox"
   ]
  },
  {
   "cell_type": "markdown",
   "metadata": {},
   "source": [
    "## 1. Load a page\n",
    "In this case study we will learn how to open a web browser, load a page and perform a search using the embedded search box.\n",
    "\n",
    "The website we want to scrape is the [Python official website](http://www.python.org)."
   ]
  },
  {
   "cell_type": "markdown",
   "metadata": {},
   "source": [
    "Chrome:"
   ]
  },
  {
   "cell_type": "code",
   "execution_count": 2,
   "metadata": {},
   "outputs": [
    {
     "name": "stdout",
     "output_type": "stream",
     "text": [
      "Page Loaded\n"
     ]
    }
   ],
   "source": [
    "# Import the Selenium web driver\n",
    "from selenium import webdriver\n",
    "from selenium.webdriver.common.keys import Keys\n",
    "import chromedriver_autoinstaller\n",
    "\n",
    "# Check if the current version of chromedriver exists\n",
    "# and if it doesn't exist, download it automatically,\n",
    "# then add chromedriver to path\n",
    "chromedriver_autoinstaller.install()  \n",
    "\n",
    "# Open the browser window\n",
    "browser = webdriver.Chrome()\n",
    "\n",
    "# Input destination\n",
    "browser.get(\"http://www.python.org\")\n",
    "# Check status\n",
    "if \"Python\" in browser.title:\n",
    "    print('Page Loaded')"
   ]
  },
  {
   "cell_type": "markdown",
   "metadata": {},
   "source": [
    "Firefox:"
   ]
  },
  {
   "cell_type": "code",
   "execution_count": 4,
   "metadata": {},
   "outputs": [],
   "source": [
    "# Import the Selenium web driver\n",
    "#from selenium import webdriver\n",
    "#from selenium.webdriver.common.keys import Keys\n",
    "#import geckodriver_autoinstaller\n",
    "\n",
    "# Check if the current version of geckodriver exists\n",
    "# and if it doesn't exist, download it automatically,\n",
    "# then add gecko driver to path\n",
    "#geckodriver_autoinstaller.install()  \n",
    "\n",
    "# Open the browser window\n",
    "#browser = webdriver.Firefox()\n",
    "\n",
    "# Input destination\n",
    "#browser.get(\"http://www.python.org\")\n",
    "# Check status\n",
    "#if \"Python\" in browser.title:\n",
    "#    print('Page Loaded')"
   ]
  },
  {
   "cell_type": "markdown",
   "metadata": {},
   "source": [
    "## 2. Perform a search \n",
    "Lets check now how to identify the search box on the [Python official website](http://www.python.org)."
   ]
  },
  {
   "cell_type": "code",
   "execution_count": 5,
   "metadata": {},
   "outputs": [
    {
     "name": "stdout",
     "output_type": "stream",
     "text": [
      "Page Loaded\n"
     ]
    }
   ],
   "source": [
    "# Open the browser window\n",
    "browser = webdriver.Chrome()\n",
    "#browser = webdriver.Firefox()\n",
    "\n",
    "# Input destination\n",
    "browser.get(\"http://www.python.org\")\n",
    "# Check status\n",
    "if \"Python\" in browser.title:\n",
    "    print('Page Loaded')\n",
    "\n",
    "\n",
    "elem = browser.find_element_by_name(\"q\")\n",
    "elem.clear()\n",
    "elem.send_keys(\"list\")\n",
    "elem.send_keys(Keys.RETURN)\n",
    "if \"No results found.\" in browser.page_source:\n",
    "    print('No results')\n",
    "\n",
    "# Close the browser window\n",
    "browser.close()"
   ]
  },
  {
   "cell_type": "markdown",
   "metadata": {
    "collapsed": true
   },
   "source": [
    "## 3.Tracing the Bitcoin \n",
    "We will learn now how to navigate around a website and locate the information. The website we are going to scrape is [TradeBlocks](https://tradeblock.com) an informative, dynamic \"JavaScript-rich\" site, for cryptocurrency live exchange rates. "
   ]
  },
  {
   "cell_type": "markdown",
   "metadata": {},
   "source": [
    "Selenium provides various strategies to locate elements in a web page. Among the others you can use one of the following methods to locate elements in a page:\n",
    "\n",
    "- browser.find_element_by_css_selector('selector')  # Return a single element matching a CSS selector\n",
    "\n",
    "\n",
    "- browser.find_elements_by_css_selector('selector')  # Return multiple elements matching a CSS selector\n",
    "\n",
    "\n",
    "- browser.find_element_by_xpath('selector')  # Return a single element matching an XPath selector\n",
    "\n",
    "\n",
    "- browser.find_elements_by_xpath('selector')  # Return multiple elements matching an XPath selector\n",
    " \n",
    "\n",
    "- browser.find_element_by_id('id')  # Return a single element matching an ID\n",
    "\n",
    "\n",
    "- browser.find_elements_by_tag_name('tag')  # Return multiple elements matching an HTML tag\n",
    "\n",
    "\n",
    "- browser.find_element_by_link_text('Link')  # Return a single element\n",
    "\n",
    "You can find the full list at https://selenium-python.readthedocs.io/locating-elements.html"
   ]
  },
  {
   "cell_type": "code",
   "execution_count": 7,
   "metadata": {},
   "outputs": [
    {
     "name": "stdout",
     "output_type": "stream",
     "text": [
      "Coinbase Pro\n",
      "USD\n",
      "36,017.00\n"
     ]
    }
   ],
   "source": [
    "# Open the browser window\n",
    "browser = webdriver.Chrome()\n",
    "#browser = webdriver.Firefox()\n",
    "\n",
    "# Navigate to a website address\n",
    "browser.get('https://tradeblock.com')\n",
    "\n",
    "# Maximise the window, otherwise it displays the mobile site\n",
    "browser.maximize_window()\n",
    "\n",
    "# Find the \"markets link\", and \"click\"\n",
    "browser.find_element_by_link_text('Markets').click()\n",
    "\n",
    "# Wait a some seconds for the page to completely load\n",
    "browser.implicitly_wait(5)\n",
    "\n",
    "# Print the name and the current price from the exchange\n",
    "print(browser.find_element_by_css_selector('.exchanges tr:first-child td:nth-child(2)').text) # name \n",
    "print(browser.find_element_by_css_selector('.exchanges tr:first-child td:nth-child(3)').text) # name \n",
    "print(browser.find_element_by_css_selector('.exchanges tr:first-child td:nth-child(4)').text) # price\n",
    "\n",
    "# browser.close()"
   ]
  },
  {
   "cell_type": "markdown",
   "metadata": {
    "collapsed": true
   },
   "source": [
    "## Challenge: \n",
    "1. try to fine tune a code to harvest all the prices on the page (hint: how to structure your code?) and store the results to local storage, and compile the results in machine-readable format. "
   ]
  },
  {
   "cell_type": "code",
   "execution_count": 10,
   "metadata": {
    "scrolled": true
   },
   "outputs": [
    {
     "name": "stdout",
     "output_type": "stream",
     "text": [
      "Coinbase Pro USD 35,963.41\n",
      "LMAX Digital USD 36,012.00\n",
      "Bitfinex USD 35,981.00\n",
      "Kraken USD 35,998.90\n",
      "Bitstamp USD 35,995.06\n",
      "Gemini USD 35,963.16\n",
      "Binance.US USD 35,974.36\n",
      "ErisX USD 35,942.40\n",
      "OKCoin USD 36,028.34\n",
      "itBit USD 35,993.25\n",
      "Bittrex USD 36,007.63\n",
      "Kraken EUR 30,272.70\n",
      "LMAX Digital EUR 30,237.85\n",
      "LMAX Digital JPY 3,981,933.00\n",
      "Kraken JPY 3,978,098.00\n"
     ]
    }
   ],
   "source": [
    "# Open the browser window\n",
    "browser = webdriver.Chrome()\n",
    "#browser = webdriver.Firefox()\n",
    "\n",
    "# Navigate to a website address\n",
    "browser.get('https://tradeblock.com')\n",
    "\n",
    "# Maximise the window, otherwise it displays the mobile site\n",
    "browser.maximize_window()\n",
    "\n",
    "# Find the \"markets link\", and \"click\"\n",
    "browser.find_element_by_link_text('Markets').click()\n",
    "\n",
    "# Wait a some seconds for the page to completely load\n",
    "browser.implicitly_wait(5)\n",
    "\n",
    "# Print the name and the current price from the exchange\n",
    "name = [item.text for item in browser.find_elements_by_css_selector('.exchanges td:nth-child(2)')] # name \n",
    "currency = [item.text for item in browser.find_elements_by_css_selector('.exchanges td:nth-child(3)')] # currency \n",
    "prices = [item.text for item in browser.find_elements_by_css_selector('.exchanges td:nth-child(4)')] # price\n",
    "\n",
    "browser.close()\n",
    "\n",
    "for index in range(0,len(name)):\n",
    "    print(name[index], currency[index], prices[index])"
   ]
  },
  {
   "cell_type": "markdown",
   "metadata": {},
   "source": [
    "## Readings in the Library\n"
   ]
  },
  {
   "cell_type": "code",
   "execution_count": 11,
   "metadata": {},
   "outputs": [],
   "source": [
    "from selenium.webdriver.support.ui import Select\n",
    "\n",
    "# Open the browser window\n",
    "browser = webdriver.Chrome()\n",
    "#browser = webdriver.Firefox()\n",
    "\n",
    "url = 'https://sys01.lib.hkbu.edu.hk/course_reserve/course.php'\n",
    "#url = 'https://lib-linux2.hkbu.edu.hk/course_reserve/course.php'\n",
    "browser.get(url)\n",
    "\n",
    "# Maximise the window, otherwise it displays the mobile site\n",
    "browser.maximize_window()\n",
    "\n",
    "# Use the selection box to change the number of readings displayed\n",
    "select = Select(browser.find_element_by_xpath('//*[@id=\"course_tb_length\"]/label/select'))\n",
    "\n",
    "# select by value \n",
    "#select.select_by_value('-1')\n",
    "select.select_by_value('50')\n",
    "#select.select_by_value('100')\n",
    "\n",
    "browser.find_element_by_xpath('//*[@id=\"course_tb_next\"]/a').click()\n",
    "\n",
    "#browser.quit()"
   ]
  },
  {
   "cell_type": "markdown",
   "metadata": {},
   "source": [
    "# Aknowledgements\n",
    "\n",
    "- The code in this notebook is inspired from various sources including the [official Selenium documentation](https://selenium-python.readthedocs.io/getting-started.html) and Dr. Xinzhi Zhang Jupyter Notebooks.\n",
    "- Code for educational purposes only and released under the CC1.0."
   ]
  }
 ],
 "metadata": {
  "kernelspec": {
   "display_name": "Python 3",
   "language": "python",
   "name": "python3"
  },
  "language_info": {
   "codemirror_mode": {
    "name": "ipython",
    "version": 3
   },
   "file_extension": ".py",
   "mimetype": "text/x-python",
   "name": "python",
   "nbconvert_exporter": "python",
   "pygments_lexer": "ipython3",
   "version": "3.8.2"
  },
  "toc": {
   "nav_menu": {},
   "number_sections": true,
   "sideBar": true,
   "skip_h1_title": false,
   "title_cell": "Table of Contents",
   "title_sidebar": "Contents",
   "toc_cell": false,
   "toc_position": {},
   "toc_section_display": true,
   "toc_window_display": false
  }
 },
 "nbformat": 4,
 "nbformat_minor": 2
}
